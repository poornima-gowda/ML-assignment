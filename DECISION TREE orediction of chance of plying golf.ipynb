{
 "cells": [
  {
   "cell_type": "code",
   "execution_count": 20,
   "metadata": {},
   "outputs": [
    {
     "ename": "NameError",
     "evalue": "name 'dg' is not defined",
     "output_type": "error",
     "traceback": [
      "\u001b[1;31m---------------------------------------------------------------------------\u001b[0m",
      "\u001b[1;31mNameError\u001b[0m                                 Traceback (most recent call last)",
      "\u001b[1;32m<ipython-input-20-9aa27eb96bb1>\u001b[0m in \u001b[0;36m<module>\u001b[1;34m\u001b[0m\n\u001b[0;32m      6\u001b[0m                      \u001b[1;34m'overcast'\u001b[0m\u001b[1;33m,\u001b[0m \u001b[1;34m'sunny'\u001b[0m\u001b[1;33m,\u001b[0m \u001b[1;34m'sunny'\u001b[0m\u001b[1;33m,\u001b[0m \u001b[1;34m'rainy'\u001b[0m\u001b[1;33m,\u001b[0m \u001b[1;34m'sunny'\u001b[0m\u001b[1;33m,\u001b[0m \u001b[1;34m'overcast'\u001b[0m\u001b[1;33m,\u001b[0m\u001b[1;33m\u001b[0m\u001b[1;33m\u001b[0m\u001b[0m\n\u001b[0;32m      7\u001b[0m                      'overcast', 'rainy']\n\u001b[1;32m----> 8\u001b[1;33m \u001b[0mprint\u001b[0m\u001b[1;33m(\u001b[0m\u001b[0mdg\u001b[0m\u001b[1;33m)\u001b[0m\u001b[1;33m\u001b[0m\u001b[1;33m\u001b[0m\u001b[0m\n\u001b[0m",
      "\u001b[1;31mNameError\u001b[0m: name 'dg' is not defined"
     ]
    }
   ],
   "source": [
    "import pandas as pd\n",
    "\n",
    "df = pd.DataFrame()\n",
    "\n",
    "df['Outlook'] = ['sunny', 'sunny', 'overcast', 'rainy', 'rainy', 'rainy', \n",
    "                     'overcast', 'sunny', 'sunny', 'rainy', 'sunny', 'overcast',\n",
    "                     'overcast', 'rainy']\n",
    "print(dg)"
   ]
  },
  {
   "cell_type": "code",
   "execution_count": 21,
   "metadata": {},
   "outputs": [
    {
     "name": "stdout",
     "output_type": "stream",
     "text": [
      "     Outlook\n",
      "0      sunny\n",
      "1      sunny\n",
      "2   overcast\n",
      "3      rainy\n",
      "4      rainy\n",
      "5      rainy\n",
      "6   overcast\n",
      "7      sunny\n",
      "8      sunny\n",
      "9      rainy\n",
      "10     sunny\n",
      "11  overcast\n",
      "12  overcast\n",
      "13     rainy\n"
     ]
    }
   ],
   "source": [
    "print(df)"
   ]
  },
  {
   "cell_type": "code",
   "execution_count": 22,
   "metadata": {},
   "outputs": [
    {
     "name": "stdout",
     "output_type": "stream",
     "text": [
      "     Outlook Temperature Humidity\n",
      "0      sunny         hot     high\n",
      "1      sunny         hot     high\n",
      "2   overcast         hot     high\n",
      "3      rainy        mild     high\n",
      "4      rainy        cool   normal\n",
      "5      rainy        cool   normal\n",
      "6   overcast        cool   normal\n",
      "7      sunny        mild     high\n",
      "8      sunny        cool   normal\n",
      "9      rainy        mild   normal\n",
      "10     sunny        mild   normal\n",
      "11  overcast        mild     high\n",
      "12  overcast         hot   normal\n",
      "13     rainy        mild     high\n"
     ]
    }
   ],
   "source": [
    "df['Temperature'] = ['hot', 'hot', 'hot', 'mild', 'cool', 'cool', 'cool',\n",
    "                         'mild', 'cool', 'mild', 'mild', 'mild', 'hot', 'mild']\n",
    "\n",
    "\n",
    "df['Humidity'] = ['high', 'high', 'high', 'high', 'normal', 'normal', 'normal',\n",
    "                      'high', 'normal', 'normal', 'normal', 'high', 'normal', 'high']\n",
    "\n",
    "print(df)"
   ]
  },
  {
   "cell_type": "code",
   "execution_count": 23,
   "metadata": {},
   "outputs": [
    {
     "name": "stdout",
     "output_type": "stream",
     "text": [
      "the input data= \n",
      " \n",
      "      Outlook Temperature Humidity  Windy Play\n",
      "0      sunny         hot     high  false   no\n",
      "1      sunny         hot     high   true   no\n",
      "2   overcast         hot     high  false  yes\n",
      "3      rainy        mild     high  false  yes\n",
      "4      rainy        cool   normal  false  yes\n",
      "5      rainy        cool   normal   true   no\n",
      "6   overcast        cool   normal   true  yes\n",
      "7      sunny        mild     high  false   no\n",
      "8      sunny        cool   normal  false  yes\n",
      "9      rainy        mild   normal  false  yes\n",
      "10     sunny        mild   normal   true  yes\n",
      "11  overcast        mild     high   true  yes\n",
      "12  overcast         hot   normal  false  yes\n",
      "13     rainy        mild     high   true   no\n"
     ]
    }
   ],
   "source": [
    "df['Windy'] = ['false', 'true', 'false', 'false', 'false', 'true', 'true',\n",
    "                   'false', 'false', 'false', 'true', 'true', 'false', 'true']\n",
    "\n",
    "df['Play'] = ['no', 'no', 'yes', 'yes', 'yes', 'no', 'yes', 'no', 'yes', 'yes', 'yes', \n",
    "                  'yes', 'yes', 'no']\n",
    "\n",
    "\n",
    "print(\"the input data=\",'\\n','\\n',df)"
   ]
  },
  {
   "cell_type": "code",
   "execution_count": 28,
   "metadata": {},
   "outputs": [
    {
     "name": "stdout",
     "output_type": "stream",
     "text": [
      "data in zeroes and ones data= \n",
      "     Outlook_overcast  Outlook_rainy  Outlook_sunny  Temperature_cool  \\\n",
      "0                  0              0              1                 0   \n",
      "1                  0              0              1                 0   \n",
      "2                  1              0              0                 0   \n",
      "3                  0              1              0                 0   \n",
      "4                  0              1              0                 1   \n",
      "5                  0              1              0                 1   \n",
      "6                  1              0              0                 1   \n",
      "7                  0              0              1                 0   \n",
      "8                  0              0              1                 1   \n",
      "9                  0              1              0                 0   \n",
      "10                 0              0              1                 0   \n",
      "11                 1              0              0                 0   \n",
      "12                 1              0              0                 0   \n",
      "13                 0              1              0                 0   \n",
      "\n",
      "    Temperature_hot  Temperature_mild  Humidity_high  Humidity_normal  \\\n",
      "0                 1                 0              1                0   \n",
      "1                 1                 0              1                0   \n",
      "2                 1                 0              1                0   \n",
      "3                 0                 1              1                0   \n",
      "4                 0                 0              0                1   \n",
      "5                 0                 0              0                1   \n",
      "6                 0                 0              0                1   \n",
      "7                 0                 1              1                0   \n",
      "8                 0                 0              0                1   \n",
      "9                 0                 1              0                1   \n",
      "10                0                 1              0                1   \n",
      "11                0                 1              1                0   \n",
      "12                1                 0              0                1   \n",
      "13                0                 1              1                0   \n",
      "\n",
      "    Windy_false  Windy_true  \n",
      "0             1           0  \n",
      "1             0           1  \n",
      "2             1           0  \n",
      "3             1           0  \n",
      "4             1           0  \n",
      "5             0           1  \n",
      "6             0           1  \n",
      "7             1           0  \n",
      "8             1           0  \n",
      "9             1           0  \n",
      "10            0           1  \n",
      "11            0           1  \n",
      "12            1           0  \n",
      "13            0           1  \n"
     ]
    }
   ],
   "source": [
    "from sklearn import tree \n",
    "data = pd.get_dummies(df[ ['Outlook', 'Temperature', 'Humidity', 'Windy'] ])\n",
    "\n",
    "print(\"data in zeroes and ones data=\",'\\n',data)"
   ]
  },
  {
   "cell_type": "code",
   "execution_count": 25,
   "metadata": {},
   "outputs": [
    {
     "name": "stdout",
     "output_type": "stream",
     "text": [
      "DecisionTreeClassifier(class_weight=None, criterion='gini', max_depth=None,\n",
      "                       max_features=None, max_leaf_nodes=None,\n",
      "                       min_impurity_decrease=0.0, min_impurity_split=None,\n",
      "                       min_samples_leaf=1, min_samples_split=2,\n",
      "                       min_weight_fraction_leaf=0.0, presort=False,\n",
      "                       random_state=None, splitter='best')\n"
     ]
    }
   ],
   "source": [
    "\n",
    "\n",
    "classify = tree.DecisionTreeClassifier()\n",
    "\n",
    "train = classify.fit(data,df['Play'])\n",
    "\n",
    "print(train)"
   ]
  },
  {
   "cell_type": "code",
   "execution_count": 26,
   "metadata": {},
   "outputs": [
    {
     "name": "stdout",
     "output_type": "stream",
     "text": [
      "['yes']\n"
     ]
    }
   ],
   "source": [
    "predict = train.predict([[0,0,1,0,1,0,0,1,1,0]])\n",
    "print(predict)"
   ]
  },
  {
   "cell_type": "code",
   "execution_count": 16,
   "metadata": {},
   "outputs": [
    {
     "name": "stdout",
     "output_type": "stream",
     "text": [
      "['yes']\n"
     ]
    }
   ],
   "source": [
    "predict=train.predict([[1,0,1,1,1,0,0,0,0,1]])\n",
    "print(predict)"
   ]
  },
  {
   "cell_type": "code",
   "execution_count": 18,
   "metadata": {},
   "outputs": [
    {
     "name": "stdout",
     "output_type": "stream",
     "text": [
      "['no']\n"
     ]
    }
   ],
   "source": [
    "predict=train.predict([[0,1,1,1,1,0,0,1,0,1]])\n",
    "print(predict)"
   ]
  },
  {
   "cell_type": "code",
   "execution_count": null,
   "metadata": {},
   "outputs": [],
   "source": []
  }
 ],
 "metadata": {
  "kernelspec": {
   "display_name": "Python 3",
   "language": "python",
   "name": "python3"
  },
  "language_info": {
   "codemirror_mode": {
    "name": "ipython",
    "version": 3
   },
   "file_extension": ".py",
   "mimetype": "text/x-python",
   "name": "python",
   "nbconvert_exporter": "python",
   "pygments_lexer": "ipython3",
   "version": "3.7.4"
  }
 },
 "nbformat": 4,
 "nbformat_minor": 2
}
